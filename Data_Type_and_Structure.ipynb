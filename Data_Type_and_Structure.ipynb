{
  "nbformat": 4,
  "nbformat_minor": 0,
  "metadata": {
    "colab": {
      "provenance": []
    },
    "kernelspec": {
      "name": "python3",
      "display_name": "Python 3"
    },
    "language_info": {
      "name": "python"
    }
  },
  "cells": [
    {
      "cell_type": "markdown",
      "source": [
        "## DATA TYPE AND STRUCTURE"
      ],
      "metadata": {
        "id": "yDjvN4Ou2lCT"
      }
    },
    {
      "cell_type": "markdown",
      "source": [
        "1.What are data structures, and why are they important?\n",
        " - Data structure are organise way of storing and managing data to enable efficient access,modification data in a way that matches the requirement of specific algorithm , helping to optimise performance in term of time and space.\n",
        " - common type of data- Array, Linklist, Stack, Queues,Graph.\n",
        " -Importance of Data Structure:\n",
        "  1.Efficiency, 2.Reusablity, 3.Maintainability, 4.Scalability, 5.performance optimisation.\n",
        "\n",
        "\n",
        "2.Explain the difference between mutable and immutable data types with examples?\n",
        " - In programming, data type can be classified as mutable and immutable based  \n",
        "   on whether their value can be change or not after they are created.\n",
        " - MUTABLE DATA TYPE:\n",
        "   these are data type whose value can be modified after they are created.\n",
        "   Example:-list, dict, set.\n",
        "   eg-\n",
        "  -  my_list = [1,2,3]\n",
        "  -  my_list[0] = 100\n",
        "  -  print(my_list)\n",
        "  -  output= [100,2,3]\n",
        " - IMMUTABLE DATA TYPE:-\n",
        "   These are data type whose value cannot be change once they are created. Any modification result in the creation  of new object.\n",
        "   - Example:- 1.int, 2.float, 3.tuple, 4.str.\n",
        "   - my_str = \"hello\"\n",
        "   - my_str[0] = \"h\"\n",
        "   - output= TypeError.\n",
        "\n",
        "3. What are the main differences between lists and tuples in Python?\n",
        " - list is mutable and tuple is immutable also represent in [ ],( ) repectivily.\n",
        "\n",
        "\n",
        "4.Describe how dictionaries store data?\n",
        " - In Python,a dictionary stores data as key-value pair using hash table.\n",
        "\n",
        "\n",
        "5. Why might you use a set instead of a list in Python?\n",
        " - Set is auotomatically eliminate duplicate elements.\n",
        "   if you need to store the only unique value ,a set is better choice.\n",
        "   there are multiple reason for set instead of a list like - Uniqueness, fasterlookup, Set operation, UnOrdered collection.  \n",
        "  \n",
        "6. What is a string in Python, and how is it different from a list?\n",
        " - string is collection of sequence of character, immutable and syntax is\n",
        "   \"  \".where as list is sequence of items have any data type,mutable and syntax is [ ].In a list dynamic modification is allow where as in string dynamic modification is not allow.\n",
        "\n",
        "7. How do tuples ensure data integrity in Python?\n",
        " - Tuple provide data intigrity by being immutable, ensuring consistent and\n",
        "   secure storage of fix collections of value.\n",
        "\n",
        "\n",
        "\n",
        "\n",
        "\n",
        "8. What is a hash table, and how does it relate to dictionaries in Python?\n",
        "  - A hash table is a data structure that stores data in an associative manner. It uses a hash function to compute an index (a hash code) into an array of buckets or slots, from which the desired value can be found.\n",
        "\n",
        "   Here's a breakdown:\n",
        "\n",
        " Key: The unique identifier used to store and retrieve data.\n",
        " Hash Function: A function that takes a key as input and returns a hash code (an integer) that represents the index where the value will be stored in the hash table.\n",
        "Buckets/Slots: The storage locations within the hash table where the values are stored. Each bucket can hold one or more key-value pairs.\n",
        "Collision Handling: When two different keys produce the same hash code, a collision occurs. Hash tables use collision handling mechanisms (e.g., chaining or open addressing) to resolve collisions and store the colliding values.\n",
        "How Hash Tables Relate to Dictionaries in Python\n",
        "\n",
        "Dictionaries in Python are implemented using hash tables. When you create a dictionary in Python, it internally creates a hash table to store the key-value pairs.\n",
        "\n",
        "\n",
        "\n",
        "9.Can lists contain different data types in Python?\n",
        " - YES, in python ,a list contain different data types. This is because lists  \n",
        "   are heterogeneous collection.  \n",
        "\n",
        "10.Explain why strings are immutable in Python?\n",
        " - String is immutable due to several reasons :-\n",
        "   - Performance and memory optimisation.\n",
        "   - Security and Intigrity.\n",
        "   - Hashing and Dictionary Keys.\n",
        "   - Simplicity and Predictibility.\n",
        "\n",
        "\n",
        "11. What advantages do dictionaries offer over lists for certain task?\n",
        "  -  Dictionary offer several  advantage over list for certain task in python:-\n",
        "     - Fast lookup.\n",
        "     - Key-value pair.\n",
        "     - Improved Readibility and Miantainability.\n",
        "     - No need for index management.\n",
        "     - Dynamic and Flexible.\n",
        "     - Uniqeness of Keys.\n",
        "     - Real world mappings.\n",
        "\n",
        "12. Describe a scenario where using a tuple would be preferable over a list?\n",
        "   - Use tuple when you want ordered, immutable, and fixed size collection of\n",
        "     elements, ensuring data intigrity and optimizing performance.\n",
        "\n",
        "13. How do sets handle duplicate values in Python?\n",
        "  -  In python , sets automatically ignore duplicate values, when you add\n",
        "     duplicate value to a set ,only one occurence of each value stored. This is    because sets are unordered collection of unique elements.\n",
        "\n",
        "\n",
        "14. How does the “in” keyword work differently for lists and dictionaries?\n",
        "  -  In python , the in keyword is used to check for membership , but it behave\n",
        "     slightly different for list and dictionary.\n",
        "     - LIST  :- when used with a list ,in checks if specific value is present  \n",
        "       anywhere in the list.\n",
        "     - Example:-\n",
        "     - my_list = [1,2,3,4]\n",
        "     - print(2 in my_list)# True\n",
        "     - print(20 in my_list)# False\n",
        "     - DICTIONARY :-for dictionaries, in checks only the keys,not the value.\n",
        "     -Example:-\n",
        "     -my_dict = {'a':1,'b':2,'c':3}\n",
        "     -print('a' in my_dict)# True\n",
        "     -print(1 in my_dict)# False.\n",
        "\n",
        "\n",
        "15. Can you modify the elements of a tuple? Explain why or why not?\n",
        "  - NO, we cant modify  an element of tuple in python because tuple are\n",
        "   immutable . This means no change after  tuple creation.\n",
        "\n",
        "16. What is a nested dictionary, and give an example of its use case?\n",
        "  - A nested dictionary in python is Dictionary inside another Dictionary. This\n",
        "   allow you to organise complex data in a hierarchical structure, similiar to JNSON object.\n",
        "   - Example:-\n",
        "   - students = {\"student1\":{\"name\":\"deepak\",\"age\":20,\"grades\":{\"maths\":50,\n",
        "      \"english\":39}},\"student2\":{\"name\":abhishek\",\"age\":21,\"grades\":{\"maths\":55,\n",
        "      \"english\":40}}}\n",
        "\n",
        "\n",
        "\n",
        "\n",
        "\n",
        "\n",
        "\n",
        "\n",
        "\n",
        "\n",
        "17. Describe the time complexity of accessing elements in a dictionary?\n",
        "  - In python , the time complexity of accessingin dictionary is generally:-\n",
        "  -Average case:-O(1) constant time,Due to hash tables.\n",
        "  -Worst case:-O(n) linear time, Due to hash collision.\n",
        "\n",
        "\n",
        "\n",
        "18.  In what situations are lists preferred over dictionaries?\n",
        "  -  List are preferred over dictionaries in python in following situations:-\n",
        "       - 1.Ordered data with Index Access.\n",
        "       - 2.Sequential operation.\n",
        "       - 3.When only value matter.\n",
        "       - 4.Faster append and access by Index.\n",
        "       - 5.Memory Efficiency.\n",
        "\n",
        "19. Why are dictionaries considered unordered, and how does that affect data\n",
        "     retrieval?\n",
        "   - Dictionaries in Python are inherently unordered because they rely on a data structure called a hash table for storing and retrieving elements. Hash tables are designed for fast access to elements based on their keys, not their order of insertion.\n",
        "\n",
        "When you add a key-value pair to a dictionary, the key is passed through a hash function to determine its position (or bucket) in the hash table. This position is not related to the order in which keys were added.\n",
        "\n",
        "How Unordered Nature Affects Data Retrieval\n",
        " - No Guaranteed Order: You cannot assume that the elements in a dictionary will be stored or retrieved in the same order you added them. The order might change due to how the hash table is implemented and how keys are hashed.\n",
        "\n",
        " - Retrieval by Key, Not Index: Unlike lists where you access elements by their index, dictionaries use keys for retrieval. You provide the key, and the dictionary uses the hash function to quickly find the corresponding value. This is very efficient because it doesn't require searching through the entire dictionary.\n",
        "\n",
        " - Iterating in Arbitrary Order: If you iterate through a dictionary using a for loop, the order in which the key-value pairs are accessed is not predictable and might change between runs. If you need a specific order, you need to sort the keys or values separately.  \n",
        "\n",
        "\n",
        "\n",
        " 20. Explain the difference between a list and a dictionary in terms of data retrieval?\n",
        "  - In python ,list and dictionaries are both used to store collection of data,\n",
        "     but they handle data retrieval very differently:\n",
        "       -1. LISTS:Retrieval by index:-\n",
        "       - Example:-\n",
        "       - my_list = [1,2,3,4,5]\n",
        "       - print(my_list[2]) #3(access by index)\n",
        "       -2. DICTIONARIES: Retrieval by Key:-\n",
        "       - Example:-\n",
        "       - my_dict = {\"a\":1,\"b\":2,\"c\":3}\n",
        "       - print(my_dict[\"b\"]) # 2(access by key).\n",
        "       \n"
      ],
      "metadata": {
        "id": "7svKzqKsnHTo"
      }
    },
    {
      "cell_type": "code",
      "source": [
        "#1. Write a code to create a string with your name and print it?\n",
        "name = \"Deepak\"\n",
        "print(name)"
      ],
      "metadata": {
        "colab": {
          "base_uri": "https://localhost:8080/"
        },
        "id": "Ub5jaayfbNYR",
        "outputId": "b06c4d2d-0b70-43b8-ac78-77b4ca44b161"
      },
      "execution_count": 1,
      "outputs": [
        {
          "output_type": "stream",
          "name": "stdout",
          "text": [
            "Deepak\n"
          ]
        }
      ]
    },
    {
      "cell_type": "code",
      "source": [
        "#2.Write a code to find the length of the string \" Hello World \".\n",
        "string = \"Hello World\"\n",
        "print(len(string))\n",
        "\n",
        ""
      ],
      "metadata": {
        "colab": {
          "base_uri": "https://localhost:8080/"
        },
        "id": "TIBiW2wPbrIB",
        "outputId": "cca45920-1fd8-43a5-b80f-da98bcf1a38f"
      },
      "execution_count": 2,
      "outputs": [
        {
          "output_type": "stream",
          "name": "stdout",
          "text": [
            "11\n"
          ]
        }
      ]
    },
    {
      "cell_type": "code",
      "source": [
        "#3. Write a code to slice the first 3 characters from the string \"Python Programming\"\n",
        "string = \"Python Programming\"\n",
        "print(string[0:3])"
      ],
      "metadata": {
        "colab": {
          "base_uri": "https://localhost:8080/"
        },
        "id": "Omospzr4dS4g",
        "outputId": "df90b03c-7300-42aa-c89c-f1646fcfe20e"
      },
      "execution_count": 3,
      "outputs": [
        {
          "output_type": "stream",
          "name": "stdout",
          "text": [
            "Pyt\n"
          ]
        }
      ]
    },
    {
      "cell_type": "code",
      "source": [
        "#4. Write a code to convert the string \"hello\" to uppercase.\n",
        "string = \"hello\"\n",
        "uppercase_string = string.upper()\n",
        "print(uppercase_string)"
      ],
      "metadata": {
        "colab": {
          "base_uri": "https://localhost:8080/"
        },
        "id": "nP0Lby7Mdq95",
        "outputId": "14896e46-2fe7-4c25-ccb6-7db8b4c79fa2"
      },
      "execution_count": 4,
      "outputs": [
        {
          "output_type": "stream",
          "name": "stdout",
          "text": [
            "HELLO\n"
          ]
        }
      ]
    },
    {
      "cell_type": "code",
      "source": [
        "#5.  Write a code to replace the word \"apple\" with \"orange\" in the string \"I like apple\".\n",
        "string = \"I like apple\"\n",
        "new_string = string.replace(\"apple\",\"orange\")\n",
        "print(new_string)"
      ],
      "metadata": {
        "colab": {
          "base_uri": "https://localhost:8080/"
        },
        "id": "nmHFp6UQeY8z",
        "outputId": "d215a432-695b-4607-b8e2-9bf95d4329ed"
      },
      "execution_count": 5,
      "outputs": [
        {
          "output_type": "stream",
          "name": "stdout",
          "text": [
            "I like orange\n"
          ]
        }
      ]
    },
    {
      "cell_type": "code",
      "source": [
        "#6.  Write a code to create a list with numbers 1 to 5 and print it.\n",
        "list = [1,2,3,4,5]\n",
        "print(list)"
      ],
      "metadata": {
        "colab": {
          "base_uri": "https://localhost:8080/"
        },
        "id": "QwKS_WAFfiLn",
        "outputId": "4224648b-c583-4c77-fc04-f3cea5cee664"
      },
      "execution_count": 6,
      "outputs": [
        {
          "output_type": "stream",
          "name": "stdout",
          "text": [
            "[1, 2, 3, 4, 5]\n"
          ]
        }
      ]
    },
    {
      "cell_type": "code",
      "source": [
        "#7. Write a code to append the number 10 to the list [1, 2, 3, 4].\n",
        "list = [1,2,3,4]\n",
        "list.append(10)\n",
        "print(list)"
      ],
      "metadata": {
        "colab": {
          "base_uri": "https://localhost:8080/"
        },
        "id": "ZM1fenO9fysx",
        "outputId": "b2325d39-9cdb-4d0e-e218-f616f718b92f"
      },
      "execution_count": 7,
      "outputs": [
        {
          "output_type": "stream",
          "name": "stdout",
          "text": [
            "[1, 2, 3, 4, 10]\n"
          ]
        }
      ]
    },
    {
      "cell_type": "code",
      "source": [
        "#8.  Write a code to remove the number 3 from the list [1, 2, 3, 4, 5].\n",
        "list = [1,2,3,4,5]\n",
        "list.remove(3)\n",
        "print(list)"
      ],
      "metadata": {
        "colab": {
          "base_uri": "https://localhost:8080/"
        },
        "id": "laUAnKDWgBFi",
        "outputId": "78999ee9-6ab2-4c05-8ff2-7c54024bfaa8"
      },
      "execution_count": 8,
      "outputs": [
        {
          "output_type": "stream",
          "name": "stdout",
          "text": [
            "[1, 2, 4, 5]\n"
          ]
        }
      ]
    },
    {
      "cell_type": "code",
      "source": [
        "#9. Write a code to access the second element in the list ['a', 'b', 'c', 'd'].\n",
        "list = ['a','b','c','d']\n",
        "print(list[1])"
      ],
      "metadata": {
        "colab": {
          "base_uri": "https://localhost:8080/"
        },
        "id": "gCTrr_76gMwK",
        "outputId": "bdf3389c-7b4d-435f-cb6a-9969201c6e08"
      },
      "execution_count": 9,
      "outputs": [
        {
          "output_type": "stream",
          "name": "stdout",
          "text": [
            "b\n"
          ]
        }
      ]
    },
    {
      "cell_type": "code",
      "source": [
        "#10. Write a code to reverse the list [10, 20, 30, 40, 50].\n",
        "my_list = [10,20,30,40,50]\n",
        "reversed_list = my_list[::-1]\n",
        "print(reversed_list)"
      ],
      "metadata": {
        "colab": {
          "base_uri": "https://localhost:8080/"
        },
        "id": "jH7hoEBMgZcQ",
        "outputId": "464d6995-aaae-4f0a-b54c-72a6f9782ff7"
      },
      "execution_count": 10,
      "outputs": [
        {
          "output_type": "stream",
          "name": "stdout",
          "text": [
            "[50, 40, 30, 20, 10]\n"
          ]
        }
      ]
    },
    {
      "cell_type": "code",
      "source": [
        "#11.  Write a code to create a tuple with the elements 100, 200, 300 and print it.\n",
        "my_tuple = (100,200,300)\n",
        "print(my_tuple)"
      ],
      "metadata": {
        "colab": {
          "base_uri": "https://localhost:8080/"
        },
        "id": "4AW6lRq-hT-d",
        "outputId": "424014eb-1b8f-4f97-940d-bcf71af9eab1"
      },
      "execution_count": 11,
      "outputs": [
        {
          "output_type": "stream",
          "name": "stdout",
          "text": [
            "(100, 200, 300)\n"
          ]
        }
      ]
    },
    {
      "cell_type": "code",
      "source": [
        "#12. Write a code to access the second-to-last element of the tuple ('red', 'green', 'blue', 'yellow').\n",
        "my_tuple = ('red','green','blue','yellow')\n",
        "print(my_tuple[-2])"
      ],
      "metadata": {
        "colab": {
          "base_uri": "https://localhost:8080/"
        },
        "id": "ZJLYkrZuheJI",
        "outputId": "44708ea3-758c-45c3-ec7b-6ff30f0fb060"
      },
      "execution_count": 12,
      "outputs": [
        {
          "output_type": "stream",
          "name": "stdout",
          "text": [
            "blue\n"
          ]
        }
      ]
    },
    {
      "cell_type": "code",
      "source": [
        "#13.  Write a code to find the minimum number in the tuple (10, 20, 5, 15).\n",
        "my_tuple = (10,20,5,15)\n",
        "print(min(my_tuple))"
      ],
      "metadata": {
        "colab": {
          "base_uri": "https://localhost:8080/"
        },
        "id": "4tX8FE49homW",
        "outputId": "1cf58ad1-59d4-485d-ac55-9e52c35f498a"
      },
      "execution_count": 13,
      "outputs": [
        {
          "output_type": "stream",
          "name": "stdout",
          "text": [
            "5\n"
          ]
        }
      ]
    },
    {
      "cell_type": "code",
      "source": [
        "#14.  Write a code to find the index of the element \"cat\" in the tuple ('dog', 'cat', 'rabbit').\n",
        "my_tuple = ('dog','cat','rabbit')\n",
        "print(my_tuple.index('cat'))"
      ],
      "metadata": {
        "colab": {
          "base_uri": "https://localhost:8080/"
        },
        "id": "GyX6ExWch6Wr",
        "outputId": "302de88d-6b04-4561-e3fd-a0a2a5af7006"
      },
      "execution_count": 14,
      "outputs": [
        {
          "output_type": "stream",
          "name": "stdout",
          "text": [
            "1\n"
          ]
        }
      ]
    },
    {
      "cell_type": "code",
      "source": [
        "#15.  Write a code to create a tuple containing three different fruits and check if \"kiwi\" is in it.\n",
        "my_tuple = ('apple','banana','orange')\n",
        "print('kiwi' in my_tuple)"
      ],
      "metadata": {
        "colab": {
          "base_uri": "https://localhost:8080/"
        },
        "id": "ixLo5wy8iL0C",
        "outputId": "870898a0-b0ca-4983-93b6-cdda2e974a5e"
      },
      "execution_count": 15,
      "outputs": [
        {
          "output_type": "stream",
          "name": "stdout",
          "text": [
            "False\n"
          ]
        }
      ]
    },
    {
      "cell_type": "code",
      "source": [
        "#16.  Write a code to create a set with the elements 'a', 'b', 'c' and print it.\n",
        "my_set = {'a','b','c'}\n",
        "print(my_set)"
      ],
      "metadata": {
        "colab": {
          "base_uri": "https://localhost:8080/"
        },
        "id": "yrSDgyldiY6J",
        "outputId": "651a073e-e317-477d-ccab-27718584833f"
      },
      "execution_count": 16,
      "outputs": [
        {
          "output_type": "stream",
          "name": "stdout",
          "text": [
            "{'a', 'c', 'b'}\n"
          ]
        }
      ]
    },
    {
      "cell_type": "code",
      "source": [
        "#17. . Write a code to clear all elements from the set {1, 2, 3, 4, 5}.\n",
        "my_set = {1,2,3,4,5}\n",
        "my_set.clear()\n",
        "print(my_set)"
      ],
      "metadata": {
        "colab": {
          "base_uri": "https://localhost:8080/"
        },
        "id": "OQi7YOeaijZt",
        "outputId": "394082e9-72cd-46d5-e0a6-efbd63cc8e5c"
      },
      "execution_count": 17,
      "outputs": [
        {
          "output_type": "stream",
          "name": "stdout",
          "text": [
            "set()\n"
          ]
        }
      ]
    },
    {
      "cell_type": "code",
      "source": [
        "#18. Write a code to remove the element 4 from the set {1, 2, 3, 4}.\n",
        "my_set = {1,2,3,4}\n",
        "my_set.remove(4)\n",
        "print(my_set)"
      ],
      "metadata": {
        "colab": {
          "base_uri": "https://localhost:8080/"
        },
        "id": "7-w5XYOCirh7",
        "outputId": "8ad8597f-c625-43d7-9a43-f93b40441d3c"
      },
      "execution_count": 18,
      "outputs": [
        {
          "output_type": "stream",
          "name": "stdout",
          "text": [
            "{1, 2, 3}\n"
          ]
        }
      ]
    },
    {
      "cell_type": "code",
      "source": [
        "#19. Write a code to find the union of two sets {1, 2, 3} and {3, 4, 5}.\n",
        "set1 = {1,2,3}\n",
        "set2 = {3,4,5}\n",
        "print(set1.union(set2))"
      ],
      "metadata": {
        "colab": {
          "base_uri": "https://localhost:8080/"
        },
        "id": "4JeJa6tXi3sf",
        "outputId": "83bbb4d1-6e5c-4ffb-f5b1-bdee711d2931"
      },
      "execution_count": 20,
      "outputs": [
        {
          "output_type": "stream",
          "name": "stdout",
          "text": [
            "{1, 2, 3, 4, 5}\n"
          ]
        }
      ]
    },
    {
      "cell_type": "code",
      "source": [
        "#20. . Write a code to find the intersection of two sets {1, 2, 3} and {2, 3, 4}.\n",
        "set1 = {1,2,3}\n",
        "set2 = {2,3,4}\n",
        "print(set1.intersection(set2))"
      ],
      "metadata": {
        "colab": {
          "base_uri": "https://localhost:8080/"
        },
        "id": "OfcUCw9LjEVn",
        "outputId": "6c09d2f3-bd5e-4ea4-a3db-c68bdb7cfaec"
      },
      "execution_count": 21,
      "outputs": [
        {
          "output_type": "stream",
          "name": "stdout",
          "text": [
            "{2, 3}\n"
          ]
        }
      ]
    },
    {
      "cell_type": "code",
      "source": [
        "#21. Write a code to create a dictionary with the keys \"name\", \"age\", and \"city\", and print it.\n",
        "my_dict = {\"name\":\"deepak\",\"age\":20,\"city\":\"delhi\"}\n",
        "print(my_dict)\n"
      ],
      "metadata": {
        "colab": {
          "base_uri": "https://localhost:8080/"
        },
        "id": "Kmq4Dm8GjMTq",
        "outputId": "23a7078b-0ab0-4aed-a626-999546dea852"
      },
      "execution_count": 22,
      "outputs": [
        {
          "output_type": "stream",
          "name": "stdout",
          "text": [
            "{'name': 'deepak', 'age': 20, 'city': 'delhi'}\n"
          ]
        }
      ]
    },
    {
      "cell_type": "code",
      "source": [
        "#22.  Write a code to add a new key-value pair \"country\": \"USA\" to the dictionary {'name': 'John', 'age': 25}.\n",
        "my_dict = {'name':'John','age':25}\n",
        "my_dict['country'] = 'USA'\n",
        "print(my_dict)\n"
      ],
      "metadata": {
        "colab": {
          "base_uri": "https://localhost:8080/"
        },
        "id": "h7J_YEGojykz",
        "outputId": "c96f8243-698a-4b33-cd3a-2b38b1c11d49"
      },
      "execution_count": 23,
      "outputs": [
        {
          "output_type": "stream",
          "name": "stdout",
          "text": [
            "{'name': 'John', 'age': 25, 'country': 'USA'}\n"
          ]
        }
      ]
    },
    {
      "cell_type": "code",
      "source": [
        "#23. . Write a code to access the value associated with the key \"name\" in the dictionary {'name': 'Alice', 'age': 30}.\n",
        "my_dict = {'name':'Alice','age':30}\n",
        "print(my_dict['name'])\n"
      ],
      "metadata": {
        "colab": {
          "base_uri": "https://localhost:8080/"
        },
        "id": "6RJvHR5wkNi1",
        "outputId": "5e77ad46-44dd-4019-b68e-cfae444dc747"
      },
      "execution_count": 26,
      "outputs": [
        {
          "output_type": "stream",
          "name": "stdout",
          "text": [
            "Alice\n"
          ]
        }
      ]
    },
    {
      "cell_type": "code",
      "source": [
        "#24. Write a code to remove the key \"age\" from the dictionary {'name': 'Bob', 'age': 22, 'city': 'New York'}.\n",
        "my_dict = {'name':'Bob','age':22,'city':'New York'}\n",
        "del my_dict['age']\n",
        "print(my_dict)"
      ],
      "metadata": {
        "colab": {
          "base_uri": "https://localhost:8080/"
        },
        "id": "2gxPiQ6Ykj-v",
        "outputId": "b16802b1-abb5-42ff-cd40-51d58a917bdf"
      },
      "execution_count": 27,
      "outputs": [
        {
          "output_type": "stream",
          "name": "stdout",
          "text": [
            "{'name': 'Bob', 'city': 'New York'}\n"
          ]
        }
      ]
    },
    {
      "cell_type": "code",
      "source": [
        "#25.  Write a code to check if the key \"city\" exists in the dictionary {'name': 'Alice', 'city': 'Paris'}.\n",
        "my_dict = {'name': 'Alice', 'city': 'Paris'}\n",
        "if 'city' in my_dict:\n",
        "    print(\"The key 'city' exists in the dictionary\")\n",
        "else:\n",
        "    print(\"The key 'city' does not exist in the dictionary\")\n"
      ],
      "metadata": {
        "colab": {
          "base_uri": "https://localhost:8080/"
        },
        "id": "ODCGhwWIktlt",
        "outputId": "75f7b309-191e-496a-b5cf-a7de032ae372"
      },
      "execution_count": 29,
      "outputs": [
        {
          "output_type": "stream",
          "name": "stdout",
          "text": [
            "The key 'city' exists in the dictionary\n"
          ]
        }
      ]
    },
    {
      "cell_type": "code",
      "source": [
        "#26.  Write a code to create a list, a tuple, and a dictionary, and print them all.\n",
        "my_list = [1,2,3,4,5]\n",
        "my_tuple = (1,2,3,4,5)\n",
        "my_dict = {'name':'deepak','age':20}\n",
        "print(my_list)\n",
        "print(my_tuple)\n",
        "print(my_dict)"
      ],
      "metadata": {
        "colab": {
          "base_uri": "https://localhost:8080/"
        },
        "id": "EstI2MwqlcZA",
        "outputId": "8512b188-7f52-468a-a687-3a3e9a7e4328"
      },
      "execution_count": 31,
      "outputs": [
        {
          "output_type": "stream",
          "name": "stdout",
          "text": [
            "[1, 2, 3, 4, 5]\n",
            "(1, 2, 3, 4, 5)\n",
            "{'name': 'deepak', 'age': 20}\n"
          ]
        }
      ]
    },
    {
      "cell_type": "code",
      "source": [
        "#27. Write a code to create a list of 5 random numbers between 1 and 100, sort it in ascending order .\n",
        "import random\n",
        "random_list = [random.randint(1,100) for _ in range(5)]\n",
        "random_list.sort()\n",
        "print(random_list)\n",
        "\n"
      ],
      "metadata": {
        "colab": {
          "base_uri": "https://localhost:8080/"
        },
        "id": "MdkuL6gFltmU",
        "outputId": "8721662d-04cb-41c5-f5ac-5ce70ed2ff5c"
      },
      "execution_count": 33,
      "outputs": [
        {
          "output_type": "stream",
          "name": "stdout",
          "text": [
            "[1, 14, 21, 30, 32]\n"
          ]
        }
      ]
    },
    {
      "cell_type": "code",
      "source": [
        "#28.  Write a code to create a list with strings and print the element at the third index.\n",
        "my_list = ['apple','banana','orange','grapes','kiwi']\n",
        "print(my_list[2])"
      ],
      "metadata": {
        "colab": {
          "base_uri": "https://localhost:8080/"
        },
        "id": "tU-YiIcencK0",
        "outputId": "b027443a-5ddf-4b55-d52c-6f29b39881c4"
      },
      "execution_count": 34,
      "outputs": [
        {
          "output_type": "stream",
          "name": "stdout",
          "text": [
            "orange\n"
          ]
        }
      ]
    },
    {
      "cell_type": "code",
      "source": [
        "#29. Write a code to combine two dictionaries into one and print the result.\n",
        "dict1 = {'a':1,'b':2}\n",
        "dict2 = {'c':3,'d':4}\n",
        "dict1.update(dict2)\n",
        "print(dict1)\n"
      ],
      "metadata": {
        "colab": {
          "base_uri": "https://localhost:8080/"
        },
        "id": "FveRuAa3nlxT",
        "outputId": "f0a56448-58e9-4866-d1d1-0da74133951e"
      },
      "execution_count": 35,
      "outputs": [
        {
          "output_type": "stream",
          "name": "stdout",
          "text": [
            "{'a': 1, 'b': 2, 'c': 3, 'd': 4}\n"
          ]
        }
      ]
    },
    {
      "cell_type": "code",
      "source": [
        "#30.  Write a code to convert a list of strings into a set.\n",
        "my_list = ['apple','banana','orange','grapes','kiwi']\n",
        "my_set = set(my_list)\n",
        "print(my_set)"
      ],
      "metadata": {
        "colab": {
          "base_uri": "https://localhost:8080/"
        },
        "id": "-64kHHb_nzV0",
        "outputId": "617371f4-557d-4530-8368-7625c5b036e3"
      },
      "execution_count": 36,
      "outputs": [
        {
          "output_type": "stream",
          "name": "stdout",
          "text": [
            "{'grapes', 'banana', 'orange', 'apple', 'kiwi'}\n"
          ]
        }
      ]
    }
  ]
}